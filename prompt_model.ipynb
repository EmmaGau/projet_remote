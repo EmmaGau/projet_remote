{
 "cells": [
  {
   "cell_type": "markdown",
   "metadata": {},
   "source": [
    "<h1><center> Training a prompt model"
   ]
  },
  {
   "cell_type": "markdown",
   "metadata": {},
   "source": [
    "# 1- Dataset"
   ]
  },
  {
   "cell_type": "code",
   "execution_count": 2,
   "metadata": {},
   "outputs": [],
   "source": [
    "from sklearn.ensemble import RandomForestClassifier\n",
    "from sklearn.model_selection import train_test_split\n",
    "from sklearn.metrics import classification_report\n",
    "import numpy as np\n",
    "import rasterio\n",
    "import os \n",
    "import torch\n",
    "import torch.nn as nn\n",
    "import torch.optim as optim\n",
    "from torch.utils.data import DataLoader\n",
    "from torchvision import datasets, transforms\n"
   ]
  },
  {
   "cell_type": "code",
   "execution_count": 3,
   "metadata": {},
   "outputs": [],
   "source": [
    "data_dir = \"split\"\n",
    "\n",
    "train_img_dir = os.path.join(data_dir, 'train', 'img')\n",
    "test_img_dir = os.path.join(data_dir, 'val', 'img')\n",
    "train_msk_dir = os.path.join(data_dir, 'train', 'msk')\n",
    "test_msk_dir = os.path.join(data_dir, 'val', 'msk')"
   ]
  },
  {
   "cell_type": "code",
   "execution_count": 14,
   "metadata": {},
   "outputs": [],
   "source": [
    "def calculate_ndwi(img):\n",
    "    # Sentinel-2 image bands\n",
    "    # {\"Blue\": 0, \"Green\": 1, \"Red\": 2, \"NIR\": 3, \"SWIR1\": 4, \"SWIR2\": 5}\n",
    "    # Extract bands\n",
    "    red_band = img[2]\n",
    "    nir_band = img[3]\n",
    "    \n",
    "    # Calculate NDVI\n",
    "    ndvi = (nir_band.astype(float) - red_band.astype(float)) / (nir_band + red_band)\n",
    "\n",
    "    # Handle division by zero\n",
    "    ndvi = np.nan_to_num(ndvi, nan=0.0)\n",
    "\n",
    "    return ndvi"
   ]
  },
  {
   "cell_type": "code",
   "execution_count": 39,
   "metadata": {},
   "outputs": [
    {
     "name": "stderr",
     "output_type": "stream",
     "text": [
      "  0%|          | 0/13158 [00:00<?, ?it/s]/Users/emmagauillard/Documents/MVA/Remote_sensing/projet/projet_remote/env/lib/python3.11/site-packages/rasterio/__init__.py:304: NotGeoreferencedWarning: Dataset has no geotransform, gcps, or rpcs. The identity matrix will be returned.\n",
      "  dataset = DatasetReader(path, driver=driver, sharing=sharing, **kwargs)\n",
      "100%|██████████| 13158/13158 [01:37<00:00, 134.74it/s]\n",
      "100%|██████████| 6113/6113 [00:43<00:00, 140.62it/s]\n"
     ]
    }
   ],
   "source": [
    "import os\n",
    "import numpy as np\n",
    "import rasterio\n",
    "import tqdm \n",
    "\n",
    "def load_images_and_masks(img_folder, mask_folder):\n",
    "    images = []\n",
    "    masks = []\n",
    "    img_filenames = [f for f in os.listdir(img_folder) if f.endswith('.tif') and \"img\" in f]\n",
    "    \n",
    "    for filename in tqdm.tqdm(img_filenames):\n",
    "        # Charger l'image\n",
    "        img_path = os.path.join(img_folder, filename)\n",
    "        with rasterio.open(img_path) as src:\n",
    "            image = src.read()\n",
    "            image = calculate_ndwi(image)\n",
    "        \n",
    "        mask_filename = filename.replace(\"img\", \"msk\")  # Supposition sur la convention de nommage\n",
    "        mask_path = os.path.join(mask_folder, mask_filename)\n",
    "        with rasterio.open(mask_path) as src:\n",
    "            mask = src.read()\n",
    "        \n",
    "        images.append(image)\n",
    "        masks.append(mask)\n",
    "                \n",
    "    # Empiler les images et les masques pour obtenir des arrays numpy\n",
    "    images_stacked = np.stack(images)\n",
    "    masks_stacked = np.stack(masks)\n",
    "    \n",
    "    return images_stacked, masks_stacked\n",
    "\n",
    "\n",
    "X_train, Y_train = load_images_and_masks(train_img_dir, train_msk_dir)\n",
    "\n",
    "X_test, Y_test = load_images_and_masks(test_img_dir, test_msk_dir)\n",
    "\n",
    "\n",
    "\n",
    "y_train = Y_train.squeeze()\n",
    "y_test = Y_test.squeeze()\n"
   ]
  },
  {
   "cell_type": "code",
   "execution_count": 38,
   "metadata": {},
   "outputs": [
    {
     "name": "stdout",
     "output_type": "stream",
     "text": [
      "X_train shape: (13158, 256, 256)\n",
      "X_test shape: (6113, 256, 256)\n",
      "y_train shape: (13158, 1, 256, 256)\n",
      "y_test shape: (6113, 1, 256, 256)\n"
     ]
    }
   ],
   "source": [
    "print(\"X_train shape:\", X_train.shape)\n",
    "print(\"X_test shape:\", X_test.shape)\n",
    "print(\"y_train shape:\", Y_train.shape)\n",
    "print(\"y_test shape:\", Y_test.shape)"
   ]
  },
  {
   "cell_type": "code",
   "execution_count": 46,
   "metadata": {},
   "outputs": [
    {
     "ename": "KeyboardInterrupt",
     "evalue": "",
     "output_type": "error",
     "traceback": [
      "\u001b[0;31m---------------------------------------------------------------------------\u001b[0m",
      "\u001b[0;31mKeyboardInterrupt\u001b[0m                         Traceback (most recent call last)",
      "\u001b[1;32m/Users/emmagauillard/Documents/MVA/Remote_sensing/projet/projet_remote/prompt_model.ipynb Cellule 8\u001b[0m line \u001b[0;36m4\n\u001b[1;32m      <a href='vscode-notebook-cell:/Users/emmagauillard/Documents/MVA/Remote_sensing/projet/projet_remote/prompt_model.ipynb#X16sZmlsZQ%3D%3D?line=0'>1</a>\u001b[0m \u001b[39mfrom\u001b[39;00m \u001b[39mtorch\u001b[39;00m\u001b[39m.\u001b[39;00m\u001b[39mutils\u001b[39;00m\u001b[39m.\u001b[39;00m\u001b[39mdata\u001b[39;00m \u001b[39mimport\u001b[39;00m DataLoader, TensorDataset\n\u001b[1;32m      <a href='vscode-notebook-cell:/Users/emmagauillard/Documents/MVA/Remote_sensing/projet/projet_remote/prompt_model.ipynb#X16sZmlsZQ%3D%3D?line=1'>2</a>\u001b[0m \u001b[39mimport\u001b[39;00m \u001b[39mtorch\u001b[39;00m\n\u001b[0;32m----> <a href='vscode-notebook-cell:/Users/emmagauillard/Documents/MVA/Remote_sensing/projet/projet_remote/prompt_model.ipynb#X16sZmlsZQ%3D%3D?line=3'>4</a>\u001b[0m X_train_tensor \u001b[39m=\u001b[39m torch\u001b[39m.\u001b[39;49mtensor(X_train, dtype\u001b[39m=\u001b[39;49mtorch\u001b[39m.\u001b[39;49mfloat32)\n\u001b[1;32m      <a href='vscode-notebook-cell:/Users/emmagauillard/Documents/MVA/Remote_sensing/projet/projet_remote/prompt_model.ipynb#X16sZmlsZQ%3D%3D?line=4'>5</a>\u001b[0m y_train_tensor \u001b[39m=\u001b[39m torch\u001b[39m.\u001b[39mtensor(y_train, dtype\u001b[39m=\u001b[39mtorch\u001b[39m.\u001b[39mlong) \n\u001b[1;32m      <a href='vscode-notebook-cell:/Users/emmagauillard/Documents/MVA/Remote_sensing/projet/projet_remote/prompt_model.ipynb#X16sZmlsZQ%3D%3D?line=5'>6</a>\u001b[0m X_test_tensor \u001b[39m=\u001b[39m torch\u001b[39m.\u001b[39mtensor(X_test, dtype\u001b[39m=\u001b[39mtorch\u001b[39m.\u001b[39mfloat32)\n",
      "\u001b[0;31mKeyboardInterrupt\u001b[0m: "
     ]
    }
   ],
   "source": [
    "from torch.utils.data import DataLoader, TensorDataset\n",
    "import torch\n",
    "\n",
    "X_train_tensor = torch.tensor(X_train, dtype=torch.float32)\n",
    "y_train_tensor = torch.tensor(y_train, dtype=torch.long) \n",
    "\n",
    "X_test_tensor = torch.tensor(X_test, dtype=torch.float32)\n",
    "y_test_tensor = torch.tensor(y_test, dtype=torch.long)\n",
    "X_train_tensor = X_train_tensor.unsqueeze(1)\n",
    "X_test_tensor = X_test_tensor.unsqueeze(1)\n",
    "\n",
    "train_dataset = TensorDataset(X_train_tensor, y_train_tensor)\n",
    "test_dataset = TensorDataset(X_test_tensor, y_test_tensor)\n",
    "\n",
    "train_loader = DataLoader(train_dataset, batch_size=32, shuffle=True)\n",
    "test_loader = DataLoader(test_dataset, batch_size=32, shuffle=False)"
   ]
  },
  {
   "cell_type": "code",
   "execution_count": 49,
   "metadata": {},
   "outputs": [
    {
     "name": "stdout",
     "output_type": "stream",
     "text": [
      "train_loader: 412\n",
      "torch.Size([13158, 256, 256])\n"
     ]
    }
   ],
   "source": [
    "print(\"train_loader:\", len(train_loader))\n",
    "print(train_loader.dataset.tensors[1].shape)"
   ]
  },
  {
   "cell_type": "markdown",
   "metadata": {},
   "source": [
    "# 2- Model"
   ]
  },
  {
   "cell_type": "code",
   "execution_count": 41,
   "metadata": {},
   "outputs": [],
   "source": [
    "import torch\n",
    "import torch.nn as nn\n",
    "import torch.optim as optim\n",
    "from torch.utils.data import DataLoader\n",
    "from torchvision import datasets, transforms\n"
   ]
  },
  {
   "cell_type": "code",
   "execution_count": 42,
   "metadata": {},
   "outputs": [],
   "source": [
    "import torch\n",
    "import torch.nn as nn\n",
    "import torch.nn.functional as F\n",
    "\n",
    "class SimpleUNet(nn.Module):\n",
    "    def __init__(self, in_channels=1, out_channels=1):\n",
    "        super(SimpleUNet, self).__init__()\n",
    "\n",
    "        # Encodeur\n",
    "        self.enc1 = self.contract_block(in_channels, 32, 3, 1)\n",
    "        self.enc2 = self.contract_block(32, 64, 3, 1)\n",
    "\n",
    "        # Partie centrale\n",
    "        self.bottleneck = nn.Sequential(\n",
    "            nn.Conv2d(64, 128, 3, padding=1),\n",
    "            nn.ReLU(inplace=True),\n",
    "            nn.Conv2d(128, 64, 3, padding=1),\n",
    "            nn.ReLU(inplace=True)\n",
    "        )\n",
    "\n",
    "        # Décodeur\n",
    "        self.dec1 = self.expand_block(128, 32, 3, 1)\n",
    "        self.final = nn.Sequential(\n",
    "            nn.Conv2d(64, 32, 3, padding=1),\n",
    "            nn.ReLU(inplace=True),\n",
    "            nn.Conv2d(32, out_channels, 3, padding=1)\n",
    "        )\n",
    "\n",
    "    def forward(self, x):\n",
    "        # Encodeur\n",
    "        e1 = self.enc1(x)\n",
    "        e2 = self.enc2(e1)\n",
    "\n",
    "        # Bottleneck\n",
    "        b = self.bottleneck(e2)\n",
    "\n",
    "        # Décodeur\n",
    "        d1 = torch.cat([e2, F.interpolate(b, scale_factor=2, mode='bilinear', align_corners=True)], 1)\n",
    "        d2 = self.dec1(d1)\n",
    "        out = self.final(torch.cat([e1, F.interpolate(d2, scale_factor=2, mode='bilinear', align_corners=True)], 1))\n",
    "        return out\n",
    "\n",
    "    def contract_block(self, in_channels, out_channels, kernel_size, padding):\n",
    "        contract = nn.Sequential(\n",
    "            nn.Conv2d(in_channels, out_channels, kernel_size=kernel_size, stride=2, padding=padding),\n",
    "            nn.ReLU(inplace=True),\n",
    "            nn.Conv2d(out_channels, out_channels, kernel_size=kernel_size, padding=padding),\n",
    "            nn.ReLU(inplace=True),\n",
    "        )\n",
    "        return contract\n",
    "\n",
    "    def expand_block(self, in_channels, out_channels, kernel_size, padding):\n",
    "        expand = nn.Sequential(\n",
    "            nn.Conv2d(in_channels, out_channels, kernel_size, padding=padding),\n",
    "            nn.ReLU(inplace=True),\n",
    "            nn.Conv2d(out_channels, out_channels, kernel_size=kernel_size, padding=padding),\n",
    "            nn.ReLU(inplace=True)\n",
    "        )\n",
    "        return expand\n"
   ]
  },
  {
   "cell_type": "code",
   "execution_count": 43,
   "metadata": {},
   "outputs": [],
   "source": [
    "def train_model(model, train_loader, criterion, optimizer, num_epochs=10):\n",
    "    for epoch in range(num_epochs):\n",
    "        model.train()\n",
    "        running_loss = 0.0\n",
    "        for images, labels in train_loader:\n",
    "            optimizer.zero_grad()\n",
    "            outputs = model(images)\n",
    "            loss = criterion(outputs, labels)\n",
    "            loss.backward()\n",
    "            optimizer.step()\n",
    "            running_loss += loss.item()\n",
    "        print(f'Epoch {epoch+1}/{num_epochs}, Loss: {running_loss/len(train_loader)}')\n"
   ]
  },
  {
   "cell_type": "code",
   "execution_count": 45,
   "metadata": {},
   "outputs": [
    {
     "ename": "NotImplementedError",
     "evalue": "Got 3D input, but bilinear mode needs 4D input",
     "output_type": "error",
     "traceback": [
      "\u001b[0;31m---------------------------------------------------------------------------\u001b[0m",
      "\u001b[0;31mNotImplementedError\u001b[0m                       Traceback (most recent call last)",
      "\u001b[1;32m/Users/emmagauillard/Documents/MVA/Remote_sensing/projet/projet_remote/prompt_model.ipynb Cellule 13\u001b[0m line \u001b[0;36m5\n\u001b[1;32m      <a href='vscode-notebook-cell:/Users/emmagauillard/Documents/MVA/Remote_sensing/projet/projet_remote/prompt_model.ipynb#X21sZmlsZQ%3D%3D?line=1'>2</a>\u001b[0m criterion \u001b[39m=\u001b[39m nn\u001b[39m.\u001b[39mCrossEntropyLoss()\n\u001b[1;32m      <a href='vscode-notebook-cell:/Users/emmagauillard/Documents/MVA/Remote_sensing/projet/projet_remote/prompt_model.ipynb#X21sZmlsZQ%3D%3D?line=2'>3</a>\u001b[0m optimizer \u001b[39m=\u001b[39m optim\u001b[39m.\u001b[39mAdam(model\u001b[39m.\u001b[39mparameters(), lr\u001b[39m=\u001b[39m\u001b[39m0.001\u001b[39m)\n\u001b[0;32m----> <a href='vscode-notebook-cell:/Users/emmagauillard/Documents/MVA/Remote_sensing/projet/projet_remote/prompt_model.ipynb#X21sZmlsZQ%3D%3D?line=4'>5</a>\u001b[0m train_model(model, train_loader, criterion, optimizer)\n",
      "\u001b[1;32m/Users/emmagauillard/Documents/MVA/Remote_sensing/projet/projet_remote/prompt_model.ipynb Cellule 13\u001b[0m line \u001b[0;36m7\n\u001b[1;32m      <a href='vscode-notebook-cell:/Users/emmagauillard/Documents/MVA/Remote_sensing/projet/projet_remote/prompt_model.ipynb#X21sZmlsZQ%3D%3D?line=4'>5</a>\u001b[0m \u001b[39mfor\u001b[39;00m images, labels \u001b[39min\u001b[39;00m train_loader:\n\u001b[1;32m      <a href='vscode-notebook-cell:/Users/emmagauillard/Documents/MVA/Remote_sensing/projet/projet_remote/prompt_model.ipynb#X21sZmlsZQ%3D%3D?line=5'>6</a>\u001b[0m     optimizer\u001b[39m.\u001b[39mzero_grad()\n\u001b[0;32m----> <a href='vscode-notebook-cell:/Users/emmagauillard/Documents/MVA/Remote_sensing/projet/projet_remote/prompt_model.ipynb#X21sZmlsZQ%3D%3D?line=6'>7</a>\u001b[0m     outputs \u001b[39m=\u001b[39m model(images)\n\u001b[1;32m      <a href='vscode-notebook-cell:/Users/emmagauillard/Documents/MVA/Remote_sensing/projet/projet_remote/prompt_model.ipynb#X21sZmlsZQ%3D%3D?line=7'>8</a>\u001b[0m     loss \u001b[39m=\u001b[39m criterion(outputs, labels)\n\u001b[1;32m      <a href='vscode-notebook-cell:/Users/emmagauillard/Documents/MVA/Remote_sensing/projet/projet_remote/prompt_model.ipynb#X21sZmlsZQ%3D%3D?line=8'>9</a>\u001b[0m     loss\u001b[39m.\u001b[39mbackward()\n",
      "File \u001b[0;32m~/Documents/MVA/Remote_sensing/projet/projet_remote/env/lib/python3.11/site-packages/torch/nn/modules/module.py:1511\u001b[0m, in \u001b[0;36mModule._wrapped_call_impl\u001b[0;34m(self, *args, **kwargs)\u001b[0m\n\u001b[1;32m   1509\u001b[0m     \u001b[39mreturn\u001b[39;00m \u001b[39mself\u001b[39m\u001b[39m.\u001b[39m_compiled_call_impl(\u001b[39m*\u001b[39margs, \u001b[39m*\u001b[39m\u001b[39m*\u001b[39mkwargs)  \u001b[39m# type: ignore[misc]\u001b[39;00m\n\u001b[1;32m   1510\u001b[0m \u001b[39melse\u001b[39;00m:\n\u001b[0;32m-> 1511\u001b[0m     \u001b[39mreturn\u001b[39;00m \u001b[39mself\u001b[39;49m\u001b[39m.\u001b[39;49m_call_impl(\u001b[39m*\u001b[39;49margs, \u001b[39m*\u001b[39;49m\u001b[39m*\u001b[39;49mkwargs)\n",
      "File \u001b[0;32m~/Documents/MVA/Remote_sensing/projet/projet_remote/env/lib/python3.11/site-packages/torch/nn/modules/module.py:1520\u001b[0m, in \u001b[0;36mModule._call_impl\u001b[0;34m(self, *args, **kwargs)\u001b[0m\n\u001b[1;32m   1515\u001b[0m \u001b[39m# If we don't have any hooks, we want to skip the rest of the logic in\u001b[39;00m\n\u001b[1;32m   1516\u001b[0m \u001b[39m# this function, and just call forward.\u001b[39;00m\n\u001b[1;32m   1517\u001b[0m \u001b[39mif\u001b[39;00m \u001b[39mnot\u001b[39;00m (\u001b[39mself\u001b[39m\u001b[39m.\u001b[39m_backward_hooks \u001b[39mor\u001b[39;00m \u001b[39mself\u001b[39m\u001b[39m.\u001b[39m_backward_pre_hooks \u001b[39mor\u001b[39;00m \u001b[39mself\u001b[39m\u001b[39m.\u001b[39m_forward_hooks \u001b[39mor\u001b[39;00m \u001b[39mself\u001b[39m\u001b[39m.\u001b[39m_forward_pre_hooks\n\u001b[1;32m   1518\u001b[0m         \u001b[39mor\u001b[39;00m _global_backward_pre_hooks \u001b[39mor\u001b[39;00m _global_backward_hooks\n\u001b[1;32m   1519\u001b[0m         \u001b[39mor\u001b[39;00m _global_forward_hooks \u001b[39mor\u001b[39;00m _global_forward_pre_hooks):\n\u001b[0;32m-> 1520\u001b[0m     \u001b[39mreturn\u001b[39;00m forward_call(\u001b[39m*\u001b[39;49margs, \u001b[39m*\u001b[39;49m\u001b[39m*\u001b[39;49mkwargs)\n\u001b[1;32m   1522\u001b[0m \u001b[39mtry\u001b[39;00m:\n\u001b[1;32m   1523\u001b[0m     result \u001b[39m=\u001b[39m \u001b[39mNone\u001b[39;00m\n",
      "\u001b[1;32m/Users/emmagauillard/Documents/MVA/Remote_sensing/projet/projet_remote/prompt_model.ipynb Cellule 13\u001b[0m line \u001b[0;36m3\n\u001b[1;32m     <a href='vscode-notebook-cell:/Users/emmagauillard/Documents/MVA/Remote_sensing/projet/projet_remote/prompt_model.ipynb#X21sZmlsZQ%3D%3D?line=34'>35</a>\u001b[0m b \u001b[39m=\u001b[39m \u001b[39mself\u001b[39m\u001b[39m.\u001b[39mbottleneck(e2)\n\u001b[1;32m     <a href='vscode-notebook-cell:/Users/emmagauillard/Documents/MVA/Remote_sensing/projet/projet_remote/prompt_model.ipynb#X21sZmlsZQ%3D%3D?line=36'>37</a>\u001b[0m \u001b[39m# Décodeur\u001b[39;00m\n\u001b[0;32m---> <a href='vscode-notebook-cell:/Users/emmagauillard/Documents/MVA/Remote_sensing/projet/projet_remote/prompt_model.ipynb#X21sZmlsZQ%3D%3D?line=37'>38</a>\u001b[0m d1 \u001b[39m=\u001b[39m torch\u001b[39m.\u001b[39mcat([e2, F\u001b[39m.\u001b[39;49minterpolate(b, scale_factor\u001b[39m=\u001b[39;49m\u001b[39m2\u001b[39;49m, mode\u001b[39m=\u001b[39;49m\u001b[39m'\u001b[39;49m\u001b[39mbilinear\u001b[39;49m\u001b[39m'\u001b[39;49m, align_corners\u001b[39m=\u001b[39;49m\u001b[39mTrue\u001b[39;49;00m)], \u001b[39m1\u001b[39m)\n\u001b[1;32m     <a href='vscode-notebook-cell:/Users/emmagauillard/Documents/MVA/Remote_sensing/projet/projet_remote/prompt_model.ipynb#X21sZmlsZQ%3D%3D?line=38'>39</a>\u001b[0m d2 \u001b[39m=\u001b[39m \u001b[39mself\u001b[39m\u001b[39m.\u001b[39mdec1(d1)\n\u001b[1;32m     <a href='vscode-notebook-cell:/Users/emmagauillard/Documents/MVA/Remote_sensing/projet/projet_remote/prompt_model.ipynb#X21sZmlsZQ%3D%3D?line=39'>40</a>\u001b[0m out \u001b[39m=\u001b[39m \u001b[39mself\u001b[39m\u001b[39m.\u001b[39mfinal(torch\u001b[39m.\u001b[39mcat([e1, F\u001b[39m.\u001b[39minterpolate(d2, scale_factor\u001b[39m=\u001b[39m\u001b[39m2\u001b[39m, mode\u001b[39m=\u001b[39m\u001b[39m'\u001b[39m\u001b[39mbilinear\u001b[39m\u001b[39m'\u001b[39m, align_corners\u001b[39m=\u001b[39m\u001b[39mTrue\u001b[39;00m)], \u001b[39m1\u001b[39m))\n",
      "File \u001b[0;32m~/Documents/MVA/Remote_sensing/projet/projet_remote/env/lib/python3.11/site-packages/torch/nn/functional.py:4049\u001b[0m, in \u001b[0;36minterpolate\u001b[0;34m(input, size, scale_factor, mode, align_corners, recompute_scale_factor, antialias)\u001b[0m\n\u001b[1;32m   4046\u001b[0m     \u001b[39mreturn\u001b[39;00m torch\u001b[39m.\u001b[39m_C\u001b[39m.\u001b[39m_nn\u001b[39m.\u001b[39mupsample_bicubic2d(\u001b[39minput\u001b[39m, output_size, align_corners, scale_factors)\n\u001b[1;32m   4048\u001b[0m \u001b[39mif\u001b[39;00m \u001b[39minput\u001b[39m\u001b[39m.\u001b[39mdim() \u001b[39m==\u001b[39m \u001b[39m3\u001b[39m \u001b[39mand\u001b[39;00m mode \u001b[39m==\u001b[39m \u001b[39m\"\u001b[39m\u001b[39mbilinear\u001b[39m\u001b[39m\"\u001b[39m:\n\u001b[0;32m-> 4049\u001b[0m     \u001b[39mraise\u001b[39;00m \u001b[39mNotImplementedError\u001b[39;00m(\u001b[39m\"\u001b[39m\u001b[39mGot 3D input, but bilinear mode needs 4D input\u001b[39m\u001b[39m\"\u001b[39m)\n\u001b[1;32m   4050\u001b[0m \u001b[39mif\u001b[39;00m \u001b[39minput\u001b[39m\u001b[39m.\u001b[39mdim() \u001b[39m==\u001b[39m \u001b[39m3\u001b[39m \u001b[39mand\u001b[39;00m mode \u001b[39m==\u001b[39m \u001b[39m\"\u001b[39m\u001b[39mtrilinear\u001b[39m\u001b[39m\"\u001b[39m:\n\u001b[1;32m   4051\u001b[0m     \u001b[39mraise\u001b[39;00m \u001b[39mNotImplementedError\u001b[39;00m(\u001b[39m\"\u001b[39m\u001b[39mGot 3D input, but trilinear mode needs 5D input\u001b[39m\u001b[39m\"\u001b[39m)\n",
      "\u001b[0;31mNotImplementedError\u001b[0m: Got 3D input, but bilinear mode needs 4D input"
     ]
    }
   ],
   "source": [
    "model = SimpleUNet(in_channels=32, out_channels=1)\n",
    "criterion = nn.CrossEntropyLoss()\n",
    "optimizer = optim.Adam(model.parameters(), lr=0.001)\n",
    "\n",
    "train_model(model, train_loader, criterion, optimizer)\n"
   ]
  }
 ],
 "metadata": {
  "kernelspec": {
   "display_name": "env",
   "language": "python",
   "name": "python3"
  },
  "language_info": {
   "codemirror_mode": {
    "name": "ipython",
    "version": 3
   },
   "file_extension": ".py",
   "mimetype": "text/x-python",
   "name": "python",
   "nbconvert_exporter": "python",
   "pygments_lexer": "ipython3",
   "version": "3.11.7"
  },
  "orig_nbformat": 4
 },
 "nbformat": 4,
 "nbformat_minor": 2
}
